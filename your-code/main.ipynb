{
 "cells": [
  {
   "cell_type": "markdown",
   "metadata": {},
   "source": [
    "# Intrduction to NumPy\n",
    "\n",
    "\n",
    "#### 1. Import NumPy under the name np."
   ]
  },
  {
   "cell_type": "code",
   "execution_count": 447,
   "metadata": {},
   "outputs": [],
   "source": [
    "import numpy as np# your code here"
   ]
  },
  {
   "cell_type": "markdown",
   "metadata": {},
   "source": [
    "#### 2. Print your NumPy version."
   ]
  },
  {
   "cell_type": "code",
   "execution_count": 448,
   "metadata": {},
   "outputs": [
    {
     "name": "stdout",
     "output_type": "stream",
     "text": [
      "np version: 1.18.1\n"
     ]
    }
   ],
   "source": [
    "# your code here\n",
    "print(\"np version:\",np.__version__)"
   ]
  },
  {
   "cell_type": "markdown",
   "metadata": {},
   "source": [
    "#### 3. Generate a 2x3x5 3-dimensional array with random values. Assign the array to variable *a*.\n",
    "**Challenge**: there are at least three easy ways that use numpy to generate random arrays. How many ways can you find?"
   ]
  },
  {
   "cell_type": "code",
   "execution_count": 449,
   "metadata": {},
   "outputs": [
    {
     "name": "stdout",
     "output_type": "stream",
     "text": [
      "[[[0.43678043 0.76925811 0.46531316 0.67728898 0.12069809]\n",
      "  [0.85291128 0.01904371 0.81279013 0.407801   0.18026026]\n",
      "  [0.5443839  0.36981399 0.46975703 0.97896527 0.11641586]]\n",
      "\n",
      " [[0.14541196 0.68543216 0.75963369 0.11598369 0.86108774]\n",
      "  [0.87131766 0.07758428 0.01756934 0.62338864 0.19807906]\n",
      "  [0.9176943  0.55537225 0.91254738 0.61434475 0.85609868]]]\n"
     ]
    }
   ],
   "source": [
    "# Method 1\n",
    "# Parameters:\tsize : int or tuple of ints, optional\n",
    "# Output shape. If the given shape is, e.g., (m, n, k), then m * n * k samples are drawn\n",
    "a = np.random.random((2,3,5))\n",
    "print(a)"
   ]
  },
  {
   "cell_type": "code",
   "execution_count": 450,
   "metadata": {},
   "outputs": [
    {
     "data": {
      "text/plain": [
       "array([[[0.43678043, 0.76925811, 0.46531316, 0.67728898, 0.12069809],\n",
       "        [0.85291128, 0.01904371, 0.81279013, 0.407801  , 0.18026026],\n",
       "        [0.5443839 , 0.36981399, 0.46975703, 0.97896527, 0.11641586]],\n",
       "\n",
       "       [[0.14541196, 0.68543216, 0.75963369, 0.11598369, 0.86108774],\n",
       "        [0.87131766, 0.07758428, 0.01756934, 0.62338864, 0.19807906],\n",
       "        [0.9176943 , 0.55537225, 0.91254738, 0.61434475, 0.85609868]]])"
      ]
     },
     "execution_count": 450,
     "metadata": {},
     "output_type": "execute_result"
    }
   ],
   "source": [
    "# Method 2\n",
    "# The empty function creates an array. Its initial content is random and depends on the state of the memory.\n",
    "\n",
    "a = np.empty((2,3,5))\n",
    "a"
   ]
  },
  {
   "cell_type": "code",
   "execution_count": 451,
   "metadata": {},
   "outputs": [
    {
     "data": {
      "text/plain": [
       "array([[[0.64563827, 0.85758238, 0.85429354, 0.41411468, 0.61440135],\n",
       "        [0.93795836, 0.0526075 , 0.3631687 , 0.87142369, 0.46103842],\n",
       "        [0.86852681, 0.95276247, 0.39342568, 0.00278073, 0.75823234]],\n",
       "\n",
       "       [[0.25575462, 0.25937491, 0.83762821, 0.05941857, 0.75961581],\n",
       "        [0.78437133, 0.74522979, 0.99515121, 0.09903598, 0.69447252],\n",
       "        [0.98808442, 0.17621395, 0.47275621, 0.6522219 , 0.58693921]]])"
      ]
     },
     "execution_count": 451,
     "metadata": {},
     "output_type": "execute_result"
    }
   ],
   "source": [
    "# Method 3\n",
    "# Random values in a given shape.\n",
    "a = np.random.rand(2,3,5)\n",
    "a"
   ]
  },
  {
   "cell_type": "markdown",
   "metadata": {},
   "source": [
    "#### 4. Print *a*.\n"
   ]
  },
  {
   "cell_type": "code",
   "execution_count": 452,
   "metadata": {},
   "outputs": [],
   "source": [
    "# your code here"
   ]
  },
  {
   "cell_type": "markdown",
   "metadata": {},
   "source": [
    "#### 5. Create a 5x2x3 3-dimensional array with all values equaling 1. Assign the array to variable *b*."
   ]
  },
  {
   "cell_type": "code",
   "execution_count": 453,
   "metadata": {},
   "outputs": [],
   "source": [
    "# your code here\n",
    "b = np.ones((5,2,3))"
   ]
  },
  {
   "cell_type": "markdown",
   "metadata": {},
   "source": [
    "#### 6. Print *b*.\n"
   ]
  },
  {
   "cell_type": "code",
   "execution_count": 454,
   "metadata": {},
   "outputs": [
    {
     "name": "stdout",
     "output_type": "stream",
     "text": [
      "[[[1. 1. 1.]\n",
      "  [1. 1. 1.]]\n",
      "\n",
      " [[1. 1. 1.]\n",
      "  [1. 1. 1.]]\n",
      "\n",
      " [[1. 1. 1.]\n",
      "  [1. 1. 1.]]\n",
      "\n",
      " [[1. 1. 1.]\n",
      "  [1. 1. 1.]]\n",
      "\n",
      " [[1. 1. 1.]\n",
      "  [1. 1. 1.]]]\n"
     ]
    }
   ],
   "source": [
    "# your code here\n",
    "print (b)"
   ]
  },
  {
   "cell_type": "markdown",
   "metadata": {},
   "source": [
    "#### 7. Do *a* and *b* have the same size? How do you prove that in Python code?"
   ]
  },
  {
   "cell_type": "code",
   "execution_count": 455,
   "metadata": {},
   "outputs": [
    {
     "data": {
      "text/plain": [
       "False"
      ]
     },
     "execution_count": 455,
     "metadata": {},
     "output_type": "execute_result"
    }
   ],
   "source": [
    "# your code here\n",
    "a.shape == b.shape"
   ]
  },
  {
   "cell_type": "markdown",
   "metadata": {},
   "source": [
    "#### 8. Are you able to add *a* and *b*? Why or why not?\n"
   ]
  },
  {
   "cell_type": "code",
   "execution_count": 456,
   "metadata": {},
   "outputs": [],
   "source": [
    "# your answer here\n",
    "\n",
    "# Value error: operands could not be broadcast together with shapes (2,3,5) (5,2,3) \n",
    "# I guess because they dont have the same shape 🤔\n",
    "\n",
    "# Find the overlapping range, and then add the arrays using slicing."
   ]
  },
  {
   "cell_type": "markdown",
   "metadata": {},
   "source": [
    "#### 9. Transpose *b* so that it has the same structure of *a* (i.e. become a 2x3x5 array). Assign the transposed array to variable *c*."
   ]
  },
  {
   "cell_type": "code",
   "execution_count": 457,
   "metadata": {},
   "outputs": [],
   "source": [
    "# your code here\n",
    "from numpy import reshape\n",
    "c = b.reshape(a.shape)\n"
   ]
  },
  {
   "cell_type": "markdown",
   "metadata": {},
   "source": [
    "#### 10. Try to add *a* and *c*. Now it should work. Assign the sum to variable *d*. But why does it work now?"
   ]
  },
  {
   "cell_type": "code",
   "execution_count": 458,
   "metadata": {},
   "outputs": [
    {
     "data": {
      "text/plain": [
       "array([[[1.64563827, 1.85758238, 1.85429354, 1.41411468, 1.61440135],\n",
       "        [1.93795836, 1.0526075 , 1.3631687 , 1.87142369, 1.46103842],\n",
       "        [1.86852681, 1.95276247, 1.39342568, 1.00278073, 1.75823234]],\n",
       "\n",
       "       [[1.25575462, 1.25937491, 1.83762821, 1.05941857, 1.75961581],\n",
       "        [1.78437133, 1.74522979, 1.99515121, 1.09903598, 1.69447252],\n",
       "        [1.98808442, 1.17621395, 1.47275621, 1.6522219 , 1.58693921]]])"
      ]
     },
     "execution_count": 458,
     "metadata": {},
     "output_type": "execute_result"
    }
   ],
   "source": [
    "# your code/answer here\n",
    "d = a + c\n",
    "d\n",
    "# It works because it has the same shape."
   ]
  },
  {
   "cell_type": "markdown",
   "metadata": {},
   "source": [
    "#### 11. Print *a* and *d*. Notice the difference and relation of the two array in terms of the values? Explain."
   ]
  },
  {
   "cell_type": "code",
   "execution_count": 459,
   "metadata": {},
   "outputs": [
    {
     "name": "stdout",
     "output_type": "stream",
     "text": [
      "np d array:\n",
      " [[[0.64563827 0.85758238 0.85429354 0.41411468 0.61440135]\n",
      "  [0.93795836 0.0526075  0.3631687  0.87142369 0.46103842]\n",
      "  [0.86852681 0.95276247 0.39342568 0.00278073 0.75823234]]\n",
      "\n",
      " [[0.25575462 0.25937491 0.83762821 0.05941857 0.75961581]\n",
      "  [0.78437133 0.74522979 0.99515121 0.09903598 0.69447252]\n",
      "  [0.98808442 0.17621395 0.47275621 0.6522219  0.58693921]]]\n",
      "np d array:\n",
      " [[[1.64563827 1.85758238 1.85429354 1.41411468 1.61440135]\n",
      "  [1.93795836 1.0526075  1.3631687  1.87142369 1.46103842]\n",
      "  [1.86852681 1.95276247 1.39342568 1.00278073 1.75823234]]\n",
      "\n",
      " [[1.25575462 1.25937491 1.83762821 1.05941857 1.75961581]\n",
      "  [1.78437133 1.74522979 1.99515121 1.09903598 1.69447252]\n",
      "  [1.98808442 1.17621395 1.47275621 1.6522219  1.58693921]]]\n"
     ]
    }
   ],
   "source": [
    "# your code/answer here\n",
    "print (\"np d array:\\n\",a)\n",
    "print(\"np d array:\\n\",d)"
   ]
  },
  {
   "cell_type": "markdown",
   "metadata": {},
   "source": [
    "#### 12. Multiply *a* and *c*. Assign the result to *e*."
   ]
  },
  {
   "cell_type": "code",
   "execution_count": 460,
   "metadata": {},
   "outputs": [
    {
     "data": {
      "text/plain": [
       "array([[[0.64563827, 0.85758238, 0.85429354, 0.41411468, 0.61440135],\n",
       "        [0.93795836, 0.0526075 , 0.3631687 , 0.87142369, 0.46103842],\n",
       "        [0.86852681, 0.95276247, 0.39342568, 0.00278073, 0.75823234]],\n",
       "\n",
       "       [[0.25575462, 0.25937491, 0.83762821, 0.05941857, 0.75961581],\n",
       "        [0.78437133, 0.74522979, 0.99515121, 0.09903598, 0.69447252],\n",
       "        [0.98808442, 0.17621395, 0.47275621, 0.6522219 , 0.58693921]]])"
      ]
     },
     "execution_count": 460,
     "metadata": {},
     "output_type": "execute_result"
    }
   ],
   "source": [
    "# your code here\n",
    "e = c*a\n",
    "e"
   ]
  },
  {
   "cell_type": "markdown",
   "metadata": {},
   "source": [
    "#### 13. Does *e* equal to *a*? Why or why not?\n"
   ]
  },
  {
   "cell_type": "code",
   "execution_count": 461,
   "metadata": {},
   "outputs": [
    {
     "data": {
      "text/plain": [
       "array([[[ True,  True,  True,  True,  True],\n",
       "        [ True,  True,  True,  True,  True],\n",
       "        [ True,  True,  True,  True,  True]],\n",
       "\n",
       "       [[ True,  True,  True,  True,  True],\n",
       "        [ True,  True,  True,  True,  True],\n",
       "        [ True,  True,  True,  True,  True]]])"
      ]
     },
     "execution_count": 461,
     "metadata": {},
     "output_type": "execute_result"
    }
   ],
   "source": [
    "# your code/answer here\n",
    "e == a\n",
    "# Because any number multiplied by 1 is equal to the number\n",
    "\n"
   ]
  },
  {
   "cell_type": "markdown",
   "metadata": {},
   "source": [
    "#### 14. Identify the max, min, and mean values in *d*. Assign those values to variables *d_max*, *d_min* and *d_mean*."
   ]
  },
  {
   "cell_type": "code",
   "execution_count": 462,
   "metadata": {},
   "outputs": [
    {
     "name": "stdout",
     "output_type": "stream",
     "text": [
      "max: 1.9951512094456882 min: 1.0027807348229478 mean: 1.580474119252917\n"
     ]
    }
   ],
   "source": [
    "# your code here\n",
    "d_max = np.max(d)\n",
    "d_min = np.min(d)\n",
    "d_mean = np.mean(d)\n",
    "\n",
    "print(\"max:\",d_max,\"min:\",d_min,\"mean:\",d_mean)\n"
   ]
  },
  {
   "cell_type": "markdown",
   "metadata": {},
   "source": [
    "#### 15. Now we want to label the values in *d*. First create an empty array *f* with the same shape (i.e. 2x3x5) as *d* using `np.empty`.\n"
   ]
  },
  {
   "cell_type": "code",
   "execution_count": 463,
   "metadata": {},
   "outputs": [
    {
     "data": {
      "text/plain": [
       "array([[[0.64563827, 0.85758238, 0.85429354, 0.41411468, 0.61440135],\n",
       "        [0.93795836, 0.0526075 , 0.3631687 , 0.87142369, 0.46103842],\n",
       "        [0.86852681, 0.95276247, 0.39342568, 0.00278073, 0.75823234]],\n",
       "\n",
       "       [[0.25575462, 0.25937491, 0.83762821, 0.05941857, 0.75961581],\n",
       "        [0.78437133, 0.74522979, 0.99515121, 0.09903598, 0.69447252],\n",
       "        [0.98808442, 0.17621395, 0.47275621, 0.6522219 , 0.58693921]]])"
      ]
     },
     "execution_count": 463,
     "metadata": {},
     "output_type": "execute_result"
    }
   ],
   "source": [
    "# your code here\n",
    "f = np.empty(d.shape)\n",
    "f"
   ]
  },
  {
   "cell_type": "markdown",
   "metadata": {},
   "source": [
    "#### 16. Populate the values in *f*. \n",
    "\n",
    "For each value in *d*, if it's larger than *d_min* but smaller than *d_mean*, assign 25 to the corresponding value in *f*. If a value in *d* is larger than *d_mean* but smaller than *d_max*, assign 75 to the corresponding value in *f*. If a value equals to *d_mean*, assign 50 to the corresponding value in *f*. Assign 0 to the corresponding value(s) in *f* for *d_min* in *d*. Assign 100 to the corresponding value(s) in *f* for *d_max* in *d*. In the end, f should have only the following values: 0, 25, 50, 75, and 100.\n",
    "\n",
    "**Note**: you don't have to use Numpy in this question."
   ]
  },
  {
   "cell_type": "code",
   "execution_count": 464,
   "metadata": {},
   "outputs": [
    {
     "data": {
      "text/plain": [
       "array([[[ 75.,  75.,  75.,  25.,  75.],\n",
       "        [ 75.,  25.,  25.,  75.,  25.],\n",
       "        [ 75.,  75.,  25.,   0.,  75.]],\n",
       "\n",
       "       [[ 25.,  25.,  75.,  25.,  75.],\n",
       "        [ 75.,  75., 100.,  25.,  75.],\n",
       "        [ 75.,  25.,  25.,  75.,  75.]]])"
      ]
     },
     "execution_count": 464,
     "metadata": {},
     "output_type": "execute_result"
    }
   ],
   "source": [
    "# Parameters:\t\n",
    "# a : array_like\n",
    "# Target array.\n",
    "\n",
    "# mask : array_like\n",
    "# Boolean mask array. It has to be the same shape as a.\n",
    "\n",
    "# values : array_like\n",
    "# Values to put into a where mask is True. If values is smaller than a it will be repeated.\n",
    "# condition = [(min < d) & (d < d_mean)]\n",
    "\n",
    "mask1 = np.logical_and(d < d_mean, d > d_min)\n",
    "# value1 = 25.\n",
    "mask2 = np.logical_and(d > d_mean, d < d_max)\n",
    "# value2 = 75.\n",
    "mask3 = d == d_mean\n",
    "mask4 = d == d_min\n",
    "mask5 = d == d_max\n",
    "\n",
    "np.putmask(f, mask1, 25. )\n",
    "np.putmask(f, mask2, 75. )\n",
    "np.putmask(f, mask3, 50. )\n",
    "np.putmask(f, mask4, 0. )\n",
    "np.putmask(f, mask5, 100. )\n",
    "\n",
    "f"
   ]
  },
  {
   "cell_type": "markdown",
   "metadata": {},
   "source": [
    "#### 17. Print *d* and *f*. Do you have your expected *f*?\n",
    "For instance, if your *d* is:\n",
    "```python\n",
    "[[[1.85836099, 1.67064465, 1.62576044, 1.40243961, 1.88454931],\n",
    "[1.75354326, 1.69403643, 1.36729252, 1.61415071, 1.12104981],\n",
    "[1.72201435, 1.1862918 , 1.87078449, 1.7726778 , 1.88180042]],\n",
    "[[1.44747908, 1.31673383, 1.02000951, 1.52218947, 1.97066381],\n",
    "[1.79129243, 1.74983003, 1.96028037, 1.85166831, 1.65450881],\n",
    "[1.18068344, 1.9587381 , 1.00656599, 1.93402165, 1.73514584]]]\n",
    "```\n",
    "Your *f* should be:\n",
    "```python\n",
    "[[[ 75.,  75.,  75.,  25.,  75.],\n",
    "[ 75.,  75.,  25.,  25.,  25.],\n",
    "[ 75.,  25.,  75.,  75.,  75.]],\n",
    "[[ 25.,  25.,  25.,  25., 100.],\n",
    "[ 75.,  75.,  75.,  75.,  75.],\n",
    "[ 25.,  75.,   0.,  75.,  75.]]]\n",
    "```"
   ]
  },
  {
   "cell_type": "code",
   "execution_count": 465,
   "metadata": {},
   "outputs": [
    {
     "name": "stdout",
     "output_type": "stream",
     "text": [
      "[[[1.64563827 1.85758238 1.85429354 1.41411468 1.61440135]\n",
      "  [1.93795836 1.0526075  1.3631687  1.87142369 1.46103842]\n",
      "  [1.86852681 1.95276247 1.39342568 1.00278073 1.75823234]]\n",
      "\n",
      " [[1.25575462 1.25937491 1.83762821 1.05941857 1.75961581]\n",
      "  [1.78437133 1.74522979 1.99515121 1.09903598 1.69447252]\n",
      "  [1.98808442 1.17621395 1.47275621 1.6522219  1.58693921]]]\n",
      "[[[ 75.  75.  75.  25.  75.]\n",
      "  [ 75.  25.  25.  75.  25.]\n",
      "  [ 75.  75.  25.   0.  75.]]\n",
      "\n",
      " [[ 25.  25.  75.  25.  75.]\n",
      "  [ 75.  75. 100.  25.  75.]\n",
      "  [ 75.  25.  25.  75.  75.]]]\n"
     ]
    }
   ],
   "source": [
    "# your code here\n",
    "print(d)\n",
    "print(f)"
   ]
  },
  {
   "cell_type": "markdown",
   "metadata": {},
   "source": [
    "#### 18. Bonus question: instead of using numbers (i.e. 0, 25, 50, 75, and 100), use string values  (\"A\", \"B\", \"C\", \"D\", and \"E\") to label the array elements. For the example above, the expected result is:\n",
    "\n",
    "```python\n",
    "[[[ 'D',  'D',  'D',  'B',  'D'],\n",
    "[ 'D',  'D',  'B',  'B',  'B'],\n",
    "[ 'D',  'B',  'D',  'D',  'D']],\n",
    "[[ 'B',  'B',  'B',  'B',  'E'],\n",
    "[ 'D',  'D',  'D',  'D',  'D'],\n",
    "[ 'B',  'D',   'A',  'D', 'D']]]\n",
    "```\n",
    "**Note**: you don't have to use Numpy in this question."
   ]
  },
  {
   "cell_type": "code",
   "execution_count": 473,
   "metadata": {},
   "outputs": [
    {
     "ename": "ValueError",
     "evalue": "could not convert string to float: 'B'",
     "output_type": "error",
     "traceback": [
      "\u001b[0;31m---------------------------------------------------------------------------\u001b[0m",
      "\u001b[0;31mValueError\u001b[0m                                Traceback (most recent call last)",
      "\u001b[0;32m<ipython-input-473-15d23520cdfc>\u001b[0m in \u001b[0;36m<module>\u001b[0;34m\u001b[0m\n\u001b[1;32m      3\u001b[0m \u001b[0;34m\u001b[0m\u001b[0m\n\u001b[1;32m      4\u001b[0m \u001b[0;34m\u001b[0m\u001b[0m\n\u001b[0;32m----> 5\u001b[0;31m \u001b[0mnp\u001b[0m\u001b[0;34m.\u001b[0m\u001b[0mputmask\u001b[0m\u001b[0;34m(\u001b[0m\u001b[0mf\u001b[0m\u001b[0;34m,\u001b[0m \u001b[0mmask1\u001b[0m\u001b[0;34m,\u001b[0m \u001b[0;34m\"B\"\u001b[0m\u001b[0;34m)\u001b[0m\u001b[0;34m\u001b[0m\u001b[0;34m\u001b[0m\u001b[0m\n\u001b[0m\u001b[1;32m      6\u001b[0m \u001b[0mnp\u001b[0m\u001b[0;34m.\u001b[0m\u001b[0mputmask\u001b[0m\u001b[0;34m(\u001b[0m\u001b[0mf\u001b[0m\u001b[0;34m,\u001b[0m \u001b[0mmask2\u001b[0m\u001b[0;34m,\u001b[0m \u001b[0;34m\"D\"\u001b[0m \u001b[0;34m)\u001b[0m\u001b[0;34m\u001b[0m\u001b[0;34m\u001b[0m\u001b[0m\n\u001b[1;32m      7\u001b[0m \u001b[0mnp\u001b[0m\u001b[0;34m.\u001b[0m\u001b[0mputmask\u001b[0m\u001b[0;34m(\u001b[0m\u001b[0mf\u001b[0m\u001b[0;34m,\u001b[0m \u001b[0mmask3\u001b[0m\u001b[0;34m,\u001b[0m \u001b[0;34m\"C\"\u001b[0m \u001b[0;34m)\u001b[0m\u001b[0;34m\u001b[0m\u001b[0;34m\u001b[0m\u001b[0m\n",
      "\u001b[0;32m<__array_function__ internals>\u001b[0m in \u001b[0;36mputmask\u001b[0;34m(*args, **kwargs)\u001b[0m\n",
      "\u001b[0;31mValueError\u001b[0m: could not convert string to float: 'B'"
     ]
    }
   ],
   "source": [
    "# your code here\n",
    "# NOT THERE YET!\n",
    "\n",
    "# print(np.where(f == 25, \"A\", f))\n",
    "\n",
    "\n",
    "np.putmask(f, mask1, \"B\")\n",
    "np.putmask(f, mask2, \"D\" )\n",
    "np.putmask(f, mask3, \"C\" )\n",
    "np.putmask(f, mask4, \"A\" )\n",
    "np.putmask(f, mask5, \"E\" )\n",
    "\n",
    "f"
   ]
  },
  {
   "cell_type": "code",
   "execution_count": null,
   "metadata": {},
   "outputs": [],
   "source": []
  }
 ],
 "metadata": {
  "kernelspec": {
   "display_name": "Python 3",
   "language": "python",
   "name": "python3"
  },
  "language_info": {
   "codemirror_mode": {
    "name": "ipython",
    "version": 3
   },
   "file_extension": ".py",
   "mimetype": "text/x-python",
   "name": "python",
   "nbconvert_exporter": "python",
   "pygments_lexer": "ipython3",
   "version": "3.7.6"
  }
 },
 "nbformat": 4,
 "nbformat_minor": 2
}
