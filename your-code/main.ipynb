{
 "cells": [
  {
   "cell_type": "markdown",
   "metadata": {},
   "source": [
    "# Intrduction to NumPy\n",
    "\n",
    "\n",
    "#### 1. Import NumPy under the name np."
   ]
  },
  {
   "cell_type": "code",
   "execution_count": 33,
   "metadata": {},
   "outputs": [],
   "source": [
    "import numpy as np# your code here"
   ]
  },
  {
   "cell_type": "markdown",
   "metadata": {},
   "source": [
    "#### 2. Print your NumPy version."
   ]
  },
  {
   "cell_type": "code",
   "execution_count": 34,
   "metadata": {},
   "outputs": [
    {
     "name": "stdout",
     "output_type": "stream",
     "text": [
      "np version: 1.18.1\n"
     ]
    }
   ],
   "source": [
    "# your code here\n",
    "print(\"np version:\",np.__version__)"
   ]
  },
  {
   "cell_type": "markdown",
   "metadata": {},
   "source": [
    "#### 3. Generate a 2x3x5 3-dimensional array with random values. Assign the array to variable *a*.\n",
    "**Challenge**: there are at least three easy ways that use numpy to generate random arrays. How many ways can you find?"
   ]
  },
  {
   "cell_type": "code",
   "execution_count": 35,
   "metadata": {},
   "outputs": [
    {
     "name": "stdout",
     "output_type": "stream",
     "text": [
      "[[[0.1701435  0.39601641 0.92139656 0.730896   0.39496738]\n",
      "  [0.81930697 0.64260417 0.84650833 0.93440134 0.62460675]\n",
      "  [0.73661263 0.24966371 0.957266   0.66704037 0.47718875]]\n",
      "\n",
      " [[0.50473245 0.5365137  0.15081516 0.3134225  0.89199804]\n",
      "  [0.45293058 0.75348883 0.78570207 0.36600065 0.8639262 ]\n",
      "  [0.82442798 0.13970956 0.83286034 0.21399844 0.82165628]]]\n"
     ]
    }
   ],
   "source": [
    "# Method 1\n",
    "# Parameters:\tsize : int or tuple of ints, optional\n",
    "# Output shape. If the given shape is, e.g., (m, n, k), then m * n * k samples are drawn\n",
    "a = np.random.random((2,3,5))\n",
    "print(a)"
   ]
  },
  {
   "cell_type": "code",
   "execution_count": 36,
   "metadata": {},
   "outputs": [
    {
     "data": {
      "text/plain": [
       "array([[[0.1701435 , 0.39601641, 0.92139656, 0.730896  , 0.39496738],\n",
       "        [0.81930697, 0.64260417, 0.84650833, 0.93440134, 0.62460675],\n",
       "        [0.73661263, 0.24966371, 0.957266  , 0.66704037, 0.47718875]],\n",
       "\n",
       "       [[0.50473245, 0.5365137 , 0.15081516, 0.3134225 , 0.89199804],\n",
       "        [0.45293058, 0.75348883, 0.78570207, 0.36600065, 0.8639262 ],\n",
       "        [0.82442798, 0.13970956, 0.83286034, 0.21399844, 0.82165628]]])"
      ]
     },
     "execution_count": 36,
     "metadata": {},
     "output_type": "execute_result"
    }
   ],
   "source": [
    "# Method 2\n",
    "# The empty function creates an array. Its initial content is random and depends on the state of the memory.\n",
    "\n",
    "a = np.empty((2,3,5))\n",
    "a"
   ]
  },
  {
   "cell_type": "code",
   "execution_count": 37,
   "metadata": {},
   "outputs": [
    {
     "data": {
      "text/plain": [
       "array([[[0.69231802, 0.30452217, 0.53649244, 0.37742148, 0.52821871],\n",
       "        [0.50961053, 0.85180714, 0.31290057, 0.68798936, 0.01786025],\n",
       "        [0.62730935, 0.9226967 , 0.21911401, 0.32574267, 0.65258043]],\n",
       "\n",
       "       [[0.90393785, 0.2364412 , 0.52959065, 0.2807912 , 0.68233883],\n",
       "        [0.07578981, 0.02412039, 0.77012908, 0.97478393, 0.5342918 ],\n",
       "        [0.47350102, 0.63652271, 0.29962172, 0.77593801, 0.93916103]]])"
      ]
     },
     "execution_count": 37,
     "metadata": {},
     "output_type": "execute_result"
    }
   ],
   "source": [
    "# Method 3\n",
    "# Random values in a given shape.\n",
    "a = np.random.rand(2,3,5)\n",
    "a"
   ]
  },
  {
   "cell_type": "markdown",
   "metadata": {},
   "source": [
    "#### 4. Print *a*.\n"
   ]
  },
  {
   "cell_type": "code",
   "execution_count": 38,
   "metadata": {},
   "outputs": [],
   "source": [
    "# your code here"
   ]
  },
  {
   "cell_type": "markdown",
   "metadata": {},
   "source": [
    "#### 5. Create a 5x2x3 3-dimensional array with all values equaling 1. Assign the array to variable *b*."
   ]
  },
  {
   "cell_type": "code",
   "execution_count": 39,
   "metadata": {},
   "outputs": [],
   "source": [
    "# your code here\n",
    "b = np.ones((5,2,3))"
   ]
  },
  {
   "cell_type": "markdown",
   "metadata": {},
   "source": [
    "#### 6. Print *b*.\n"
   ]
  },
  {
   "cell_type": "code",
   "execution_count": 40,
   "metadata": {},
   "outputs": [
    {
     "name": "stdout",
     "output_type": "stream",
     "text": [
      "[[[1. 1. 1.]\n",
      "  [1. 1. 1.]]\n",
      "\n",
      " [[1. 1. 1.]\n",
      "  [1. 1. 1.]]\n",
      "\n",
      " [[1. 1. 1.]\n",
      "  [1. 1. 1.]]\n",
      "\n",
      " [[1. 1. 1.]\n",
      "  [1. 1. 1.]]\n",
      "\n",
      " [[1. 1. 1.]\n",
      "  [1. 1. 1.]]]\n"
     ]
    }
   ],
   "source": [
    "# your code here\n",
    "print (b)"
   ]
  },
  {
   "cell_type": "markdown",
   "metadata": {},
   "source": [
    "#### 7. Do *a* and *b* have the same size? How do you prove that in Python code?"
   ]
  },
  {
   "cell_type": "code",
   "execution_count": 41,
   "metadata": {},
   "outputs": [
    {
     "data": {
      "text/plain": [
       "False"
      ]
     },
     "execution_count": 41,
     "metadata": {},
     "output_type": "execute_result"
    }
   ],
   "source": [
    "# your code here\n",
    "a.shape == b.shape"
   ]
  },
  {
   "cell_type": "markdown",
   "metadata": {},
   "source": [
    "#### 8. Are you able to add *a* and *b*? Why or why not?\n"
   ]
  },
  {
   "cell_type": "code",
   "execution_count": 42,
   "metadata": {},
   "outputs": [],
   "source": [
    "# your answer here\n",
    "\n",
    "# Value error: operands could not be broadcast together with shapes (2,3,5) (5,2,3) \n",
    "# I guess because they dont have the same shape 🤔\n",
    "\n",
    "# Find the overlapping range, and then add the arrays using slicing."
   ]
  },
  {
   "cell_type": "markdown",
   "metadata": {},
   "source": [
    "#### 9. Transpose *b* so that it has the same structure of *a* (i.e. become a 2x3x5 array). Assign the transposed array to variable *c*."
   ]
  },
  {
   "cell_type": "code",
   "execution_count": 43,
   "metadata": {},
   "outputs": [],
   "source": [
    "# your code here\n",
    "from numpy import reshape\n",
    "c = b.reshape(a.shape)\n"
   ]
  },
  {
   "cell_type": "markdown",
   "metadata": {},
   "source": [
    "#### 10. Try to add *a* and *c*. Now it should work. Assign the sum to variable *d*. But why does it work now?"
   ]
  },
  {
   "cell_type": "code",
   "execution_count": 44,
   "metadata": {},
   "outputs": [
    {
     "data": {
      "text/plain": [
       "array([[[1.69231802, 1.30452217, 1.53649244, 1.37742148, 1.52821871],\n",
       "        [1.50961053, 1.85180714, 1.31290057, 1.68798936, 1.01786025],\n",
       "        [1.62730935, 1.9226967 , 1.21911401, 1.32574267, 1.65258043]],\n",
       "\n",
       "       [[1.90393785, 1.2364412 , 1.52959065, 1.2807912 , 1.68233883],\n",
       "        [1.07578981, 1.02412039, 1.77012908, 1.97478393, 1.5342918 ],\n",
       "        [1.47350102, 1.63652271, 1.29962172, 1.77593801, 1.93916103]]])"
      ]
     },
     "execution_count": 44,
     "metadata": {},
     "output_type": "execute_result"
    }
   ],
   "source": [
    "# your code/answer here\n",
    "d = a + c\n",
    "d\n",
    "# It works because it has the same shape."
   ]
  },
  {
   "cell_type": "markdown",
   "metadata": {},
   "source": [
    "#### 11. Print *a* and *d*. Notice the difference and relation of the two array in terms of the values? Explain."
   ]
  },
  {
   "cell_type": "code",
   "execution_count": 45,
   "metadata": {},
   "outputs": [
    {
     "name": "stdout",
     "output_type": "stream",
     "text": [
      "np d array:\n",
      " [[[0.69231802 0.30452217 0.53649244 0.37742148 0.52821871]\n",
      "  [0.50961053 0.85180714 0.31290057 0.68798936 0.01786025]\n",
      "  [0.62730935 0.9226967  0.21911401 0.32574267 0.65258043]]\n",
      "\n",
      " [[0.90393785 0.2364412  0.52959065 0.2807912  0.68233883]\n",
      "  [0.07578981 0.02412039 0.77012908 0.97478393 0.5342918 ]\n",
      "  [0.47350102 0.63652271 0.29962172 0.77593801 0.93916103]]]\n",
      "np d array:\n",
      " [[[1.69231802 1.30452217 1.53649244 1.37742148 1.52821871]\n",
      "  [1.50961053 1.85180714 1.31290057 1.68798936 1.01786025]\n",
      "  [1.62730935 1.9226967  1.21911401 1.32574267 1.65258043]]\n",
      "\n",
      " [[1.90393785 1.2364412  1.52959065 1.2807912  1.68233883]\n",
      "  [1.07578981 1.02412039 1.77012908 1.97478393 1.5342918 ]\n",
      "  [1.47350102 1.63652271 1.29962172 1.77593801 1.93916103]]]\n"
     ]
    }
   ],
   "source": [
    "# your code/answer here\n",
    "print (\"np d array:\\n\",a)\n",
    "print(\"np d array:\\n\",d)"
   ]
  },
  {
   "cell_type": "markdown",
   "metadata": {},
   "source": [
    "#### 12. Multiply *a* and *c*. Assign the result to *e*."
   ]
  },
  {
   "cell_type": "code",
   "execution_count": 46,
   "metadata": {},
   "outputs": [
    {
     "data": {
      "text/plain": [
       "array([[[0.69231802, 0.30452217, 0.53649244, 0.37742148, 0.52821871],\n",
       "        [0.50961053, 0.85180714, 0.31290057, 0.68798936, 0.01786025],\n",
       "        [0.62730935, 0.9226967 , 0.21911401, 0.32574267, 0.65258043]],\n",
       "\n",
       "       [[0.90393785, 0.2364412 , 0.52959065, 0.2807912 , 0.68233883],\n",
       "        [0.07578981, 0.02412039, 0.77012908, 0.97478393, 0.5342918 ],\n",
       "        [0.47350102, 0.63652271, 0.29962172, 0.77593801, 0.93916103]]])"
      ]
     },
     "execution_count": 46,
     "metadata": {},
     "output_type": "execute_result"
    }
   ],
   "source": [
    "# your code here\n",
    "e = c*a\n",
    "e"
   ]
  },
  {
   "cell_type": "markdown",
   "metadata": {},
   "source": [
    "#### 13. Does *e* equal to *a*? Why or why not?\n"
   ]
  },
  {
   "cell_type": "code",
   "execution_count": 47,
   "metadata": {},
   "outputs": [
    {
     "data": {
      "text/plain": [
       "array([[[ True,  True,  True,  True,  True],\n",
       "        [ True,  True,  True,  True,  True],\n",
       "        [ True,  True,  True,  True,  True]],\n",
       "\n",
       "       [[ True,  True,  True,  True,  True],\n",
       "        [ True,  True,  True,  True,  True],\n",
       "        [ True,  True,  True,  True,  True]]])"
      ]
     },
     "execution_count": 47,
     "metadata": {},
     "output_type": "execute_result"
    }
   ],
   "source": [
    "# your code/answer here\n",
    "e == a\n",
    "# Because any number multiplied by 1 is equal to the number\n",
    "\n"
   ]
  },
  {
   "cell_type": "markdown",
   "metadata": {},
   "source": [
    "#### 14. Identify the max, min, and mean values in *d*. Assign those values to variables *d_max*, *d_min* and *d_mean*."
   ]
  },
  {
   "cell_type": "code",
   "execution_count": 48,
   "metadata": {},
   "outputs": [
    {
     "name": "stdout",
     "output_type": "stream",
     "text": [
      "max: 1.974783930518094 min: 1.017860246739948 mean: 1.5234514344777446\n"
     ]
    }
   ],
   "source": [
    "# your code here\n",
    "d_max = np.max(d)\n",
    "d_min = np.min(d)\n",
    "d_mean = np.mean(d)\n",
    "\n",
    "print(\"max:\",d_max,\"min:\",d_min,\"mean:\",d_mean)\n"
   ]
  },
  {
   "cell_type": "markdown",
   "metadata": {},
   "source": [
    "#### 15. Now we want to label the values in *d*. First create an empty array *f* with the same shape (i.e. 2x3x5) as *d* using `np.empty`.\n"
   ]
  },
  {
   "cell_type": "code",
   "execution_count": 49,
   "metadata": {},
   "outputs": [
    {
     "data": {
      "text/plain": [
       "array([[[0.69231802, 0.30452217, 0.53649244, 0.37742148, 0.52821871],\n",
       "        [0.50961053, 0.85180714, 0.31290057, 0.68798936, 0.01786025],\n",
       "        [0.62730935, 0.9226967 , 0.21911401, 0.32574267, 0.65258043]],\n",
       "\n",
       "       [[0.90393785, 0.2364412 , 0.52959065, 0.2807912 , 0.68233883],\n",
       "        [0.07578981, 0.02412039, 0.77012908, 0.97478393, 0.5342918 ],\n",
       "        [0.47350102, 0.63652271, 0.29962172, 0.77593801, 0.93916103]]])"
      ]
     },
     "execution_count": 49,
     "metadata": {},
     "output_type": "execute_result"
    }
   ],
   "source": [
    "# your code here\n",
    "f = np.empty(d.shape)\n",
    "f"
   ]
  },
  {
   "cell_type": "markdown",
   "metadata": {},
   "source": [
    "#### 16. Populate the values in *f*. \n",
    "\n",
    "For each value in *d*, if it's larger than *d_min* but smaller than *d_mean*, assign 25 to the corresponding value in *f*. If a value in *d* is larger than *d_mean* but smaller than *d_max*, assign 75 to the corresponding value in *f*. If a value equals to *d_mean*, assign 50 to the corresponding value in *f*. Assign 0 to the corresponding value(s) in *f* for *d_min* in *d*. Assign 100 to the corresponding value(s) in *f* for *d_max* in *d*. In the end, f should have only the following values: 0, 25, 50, 75, and 100.\n",
    "\n",
    "**Note**: you don't have to use Numpy in this question."
   ]
  },
  {
   "cell_type": "code",
   "execution_count": 50,
   "metadata": {},
   "outputs": [
    {
     "data": {
      "text/plain": [
       "array([[[ 75.,  25.,  75.,  25.,  75.],\n",
       "        [ 25.,  75.,  25.,  75.,   0.],\n",
       "        [ 75.,  75.,  25.,  25.,  75.]],\n",
       "\n",
       "       [[ 75.,  25.,  75.,  25.,  75.],\n",
       "        [ 25.,  25.,  75., 100.,  75.],\n",
       "        [ 25.,  75.,  25.,  75.,  75.]]])"
      ]
     },
     "execution_count": 50,
     "metadata": {},
     "output_type": "execute_result"
    }
   ],
   "source": [
    "# Parameters:\t\n",
    "# a : array_like\n",
    "# Target array.\n",
    "\n",
    "# mask : array_like\n",
    "# Boolean mask array. It has to be the same shape as a.\n",
    "\n",
    "# values : array_like\n",
    "# Values to put into a where mask is True. If values is smaller than a it will be repeated.\n",
    "# condition = [(min < d) & (d < d_mean)]\n",
    "\n",
    "mask1 = np.logical_and(d < d_mean, d > d_min)\n",
    "# value1 = 25.\n",
    "mask2 = np.logical_and(d > d_mean, d < d_max)\n",
    "# value2 = 75.\n",
    "mask3 = d == d_mean\n",
    "mask4 = d == d_min\n",
    "mask5 = d == d_max\n",
    "\n",
    "np.putmask(f, mask1, 25. )\n",
    "np.putmask(f, mask2, 75. )\n",
    "np.putmask(f, mask3, 50. )\n",
    "np.putmask(f, mask4, 0. )\n",
    "np.putmask(f, mask5, 100. )\n",
    "\n",
    "f"
   ]
  },
  {
   "cell_type": "markdown",
   "metadata": {},
   "source": [
    "#### 17. Print *d* and *f*. Do you have your expected *f*?\n",
    "For instance, if your *d* is:\n",
    "```python\n",
    "[[[1.85836099, 1.67064465, 1.62576044, 1.40243961, 1.88454931],\n",
    "[1.75354326, 1.69403643, 1.36729252, 1.61415071, 1.12104981],\n",
    "[1.72201435, 1.1862918 , 1.87078449, 1.7726778 , 1.88180042]],\n",
    "[[1.44747908, 1.31673383, 1.02000951, 1.52218947, 1.97066381],\n",
    "[1.79129243, 1.74983003, 1.96028037, 1.85166831, 1.65450881],\n",
    "[1.18068344, 1.9587381 , 1.00656599, 1.93402165, 1.73514584]]]\n",
    "```\n",
    "Your *f* should be:\n",
    "```python\n",
    "[[[ 75.,  75.,  75.,  25.,  75.],\n",
    "[ 75.,  75.,  25.,  25.,  25.],\n",
    "[ 75.,  25.,  75.,  75.,  75.]],\n",
    "[[ 25.,  25.,  25.,  25., 100.],\n",
    "[ 75.,  75.,  75.,  75.,  75.],\n",
    "[ 25.,  75.,   0.,  75.,  75.]]]\n",
    "```"
   ]
  },
  {
   "cell_type": "code",
   "execution_count": 51,
   "metadata": {},
   "outputs": [
    {
     "name": "stdout",
     "output_type": "stream",
     "text": [
      "[[[1.69231802 1.30452217 1.53649244 1.37742148 1.52821871]\n",
      "  [1.50961053 1.85180714 1.31290057 1.68798936 1.01786025]\n",
      "  [1.62730935 1.9226967  1.21911401 1.32574267 1.65258043]]\n",
      "\n",
      " [[1.90393785 1.2364412  1.52959065 1.2807912  1.68233883]\n",
      "  [1.07578981 1.02412039 1.77012908 1.97478393 1.5342918 ]\n",
      "  [1.47350102 1.63652271 1.29962172 1.77593801 1.93916103]]]\n",
      "[[[ 75.  25.  75.  25.  75.]\n",
      "  [ 25.  75.  25.  75.   0.]\n",
      "  [ 75.  75.  25.  25.  75.]]\n",
      "\n",
      " [[ 75.  25.  75.  25.  75.]\n",
      "  [ 25.  25.  75. 100.  75.]\n",
      "  [ 25.  75.  25.  75.  75.]]]\n"
     ]
    }
   ],
   "source": [
    "# your code here\n",
    "print(d)\n",
    "print(f)"
   ]
  },
  {
   "cell_type": "markdown",
   "metadata": {},
   "source": [
    "#### 18. Bonus question: instead of using numbers (i.e. 0, 25, 50, 75, and 100), use string values  (\"A\", \"B\", \"C\", \"D\", and \"E\") to label the array elements. For the example above, the expected result is:\n",
    "\n",
    "```python\n",
    "[[[ 'D',  'D',  'D',  'B',  'D'],\n",
    "[ 'D',  'D',  'B',  'B',  'B'],\n",
    "[ 'D',  'B',  'D',  'D',  'D']],\n",
    "[[ 'B',  'B',  'B',  'B',  'E'],\n",
    "[ 'D',  'D',  'D',  'D',  'D'],\n",
    "[ 'B',  'D',   'A',  'D', 'D']]]\n",
    "```\n",
    "**Note**: you don't have to use Numpy in this question."
   ]
  },
  {
   "cell_type": "code",
   "execution_count": 53,
   "metadata": {},
   "outputs": [
    {
     "data": {
      "text/plain": [
       "array([[['D', 'B', 'D', 'B', 'D'],\n",
       "        ['B', 'D', 'B', 'D', 'A'],\n",
       "        ['D', 'D', 'B', 'B', 'D']],\n",
       "\n",
       "       [['D', 'B', 'D', 'B', 'D'],\n",
       "        ['B', 'B', 'D', 'E', 'D'],\n",
       "        ['B', 'D', 'B', 'D', 'D']]], dtype=object)"
      ]
     },
     "execution_count": 53,
     "metadata": {},
     "output_type": "execute_result"
    }
   ],
   "source": [
    "# The following error appears if we dont change the array type: \"could not convert string to float: 'B'\"\"\n",
    "f = f.astype('object') \n",
    "\n",
    "#This is not changing the array, it only prints.\n",
    "# print(np.where(f ==25, 'A', 'C'))\n",
    "\n",
    "#This is not working\n",
    "# f[ f <= 0 ] = 'A'\n",
    "# f[ f <= 25 ] = 'B'\n",
    "# f[ f == 50 ] = 'C'\n",
    "# f[ f <= 75 ] = 'D'\n",
    "# f[ f <= 100 ] = 'E'\n",
    "\n",
    "# your code here\n",
    "np.putmask(f, mask1, \"B\")\n",
    "np.putmask(f, mask2, \"D\" )\n",
    "np.putmask(f, mask3, \"C\" )\n",
    "np.putmask(f, mask4, \"A\" )\n",
    "np.putmask(f, mask5, \"E\" )\n",
    "\n",
    "f\n",
    "\n"
   ]
  },
  {
   "cell_type": "code",
   "execution_count": null,
   "metadata": {},
   "outputs": [],
   "source": []
  }
 ],
 "metadata": {
  "kernelspec": {
   "display_name": "Python 3",
   "language": "python",
   "name": "python3"
  },
  "language_info": {
   "codemirror_mode": {
    "name": "ipython",
    "version": 3
   },
   "file_extension": ".py",
   "mimetype": "text/x-python",
   "name": "python",
   "nbconvert_exporter": "python",
   "pygments_lexer": "ipython3",
   "version": "3.7.6"
  }
 },
 "nbformat": 4,
 "nbformat_minor": 2
}
